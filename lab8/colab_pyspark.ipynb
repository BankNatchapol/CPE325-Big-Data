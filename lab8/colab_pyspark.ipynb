{
  "nbformat": 4,
  "nbformat_minor": 0,
  "metadata": {
    "colab": {
      "name": "colab_pyspark.ipynb",
      "provenance": [],
      "collapsed_sections": []
    },
    "kernelspec": {
      "name": "python3",
      "display_name": "Python 3"
    },
    "language_info": {
      "name": "python"
    }
  },
  "cells": [
    {
      "cell_type": "markdown",
      "metadata": {
        "id": "kfcjUQfHELus"
      },
      "source": [
        "#Download Java"
      ]
    },
    {
      "cell_type": "code",
      "metadata": {
        "id": "dbMrFwQWDsAd"
      },
      "source": [
        "!apt-get install openjdk-8-jdk-headless -qq > /dev/null"
      ],
      "execution_count": null,
      "outputs": []
    },
    {
      "cell_type": "markdown",
      "metadata": {
        "id": "tRTSynLfEiX5"
      },
      "source": [
        "# Install Apache Spark 3.1.1 with Hadoop 2.7\n",
        "### Download Apache Spark 3.1.1 with Hadoop 2.7"
      ]
    },
    {
      "cell_type": "code",
      "metadata": {
        "colab": {
          "base_uri": "https://localhost:8080/"
        },
        "id": "2IM-0gGeDuga",
        "outputId": "fdd37cde-8470-4de9-f7d2-26d53cc67c07"
      },
      "source": [
        "!wget https://www-us.apache.org/dist/spark/spark-3.1.1/spark-3.1.1-bin-hadoop2.7.tgz"
      ],
      "execution_count": null,
      "outputs": [
        {
          "output_type": "stream",
          "text": [
            "--2021-03-29 06:24:44--  https://www-us.apache.org/dist/spark/spark-3.1.1/spark-3.1.1-bin-hadoop2.7.tgz\n",
            "Resolving www-us.apache.org (www-us.apache.org)... 207.244.88.140\n",
            "Connecting to www-us.apache.org (www-us.apache.org)|207.244.88.140|:443... connected.\n",
            "HTTP request sent, awaiting response... 302 Found\n",
            "Location: https://downloads.apache.org/spark/spark-3.1.1/spark-3.1.1-bin-hadoop2.7.tgz [following]\n",
            "--2021-03-29 06:24:45--  https://downloads.apache.org/spark/spark-3.1.1/spark-3.1.1-bin-hadoop2.7.tgz\n",
            "Resolving downloads.apache.org (downloads.apache.org)... 88.99.95.219, 2a01:4f8:10a:201a::2\n",
            "Connecting to downloads.apache.org (downloads.apache.org)|88.99.95.219|:443... connected.\n",
            "HTTP request sent, awaiting response... 200 OK\n",
            "Length: 224374704 (214M) [application/x-gzip]\n",
            "Saving to: ‘spark-3.1.1-bin-hadoop2.7.tgz’\n",
            "\n",
            "spark-3.1.1-bin-had 100%[===================>] 213.98M  10.5MB/s    in 22s     \n",
            "\n",
            "2021-03-29 06:25:08 (9.61 MB/s) - ‘spark-3.1.1-bin-hadoop2.7.tgz’ saved [224374704/224374704]\n",
            "\n"
          ],
          "name": "stdout"
        }
      ]
    },
    {
      "cell_type": "markdown",
      "metadata": {
        "id": "F8lss6XbFOCg"
      },
      "source": [
        "### unzip spark-3.1.1-bin-hadoop2.7.tgz"
      ]
    },
    {
      "cell_type": "code",
      "metadata": {
        "id": "KPL_XIgBDwvf"
      },
      "source": [
        "!tar xf spark-3.1.1-bin-hadoop2.7.tgz"
      ],
      "execution_count": null,
      "outputs": []
    },
    {
      "cell_type": "markdown",
      "metadata": {
        "id": "2t41nBaHFWcU"
      },
      "source": [
        "# Install findspark to make spark importable"
      ]
    },
    {
      "cell_type": "code",
      "metadata": {
        "id": "-j4nU_fHDzPz"
      },
      "source": [
        "!pip install -q findspark"
      ],
      "execution_count": null,
      "outputs": []
    },
    {
      "cell_type": "markdown",
      "metadata": {
        "id": "88qFtj4hFpcj"
      },
      "source": [
        "# Enable PySpark on colab environment"
      ]
    },
    {
      "cell_type": "code",
      "metadata": {
        "id": "CvQDdQAsDzmT"
      },
      "source": [
        "import os\n",
        "os.environ[\"JAVA_HOME\"] = \"/usr/lib/jvm/java-8-openjdk-amd64\"\n",
        "os.environ[\"SPARK_HOME\"] = \"/content/spark-3.1.1-bin-hadoop2.7\""
      ],
      "execution_count": null,
      "outputs": []
    },
    {
      "cell_type": "code",
      "metadata": {
        "id": "MCWNqxr-Fml7"
      },
      "source": [
        "import findspark\n",
        "findspark.init()"
      ],
      "execution_count": null,
      "outputs": []
    },
    {
      "cell_type": "code",
      "metadata": {
        "colab": {
          "base_uri": "https://localhost:8080/",
          "height": 35
        },
        "id": "Vy401hKLF4BG",
        "outputId": "e36bb1fb-f2c4-4104-ab86-7c8305bca622"
      },
      "source": [
        "findspark.find() # find spark installation location"
      ],
      "execution_count": null,
      "outputs": [
        {
          "output_type": "execute_result",
          "data": {
            "application/vnd.google.colaboratory.intrinsic+json": {
              "type": "string"
            },
            "text/plain": [
              "'/content/spark-3.1.1-bin-hadoop2.7'"
            ]
          },
          "metadata": {
            "tags": []
          },
          "execution_count": 7
        }
      ]
    },
    {
      "cell_type": "code",
      "metadata": {
        "id": "gEmEXYF-F_2y"
      },
      "source": [
        "from pyspark import SparkContext, SparkConf\n",
        "\n",
        "conf = SparkConf().setAppName(\"testing\").setMaster(\"local[*]\").set(\"spark.ui.port\", \"4050\")\n",
        "sc = SparkContext(conf = conf)"
      ],
      "execution_count": null,
      "outputs": []
    },
    {
      "cell_type": "code",
      "metadata": {
        "colab": {
          "base_uri": "https://localhost:8080/",
          "height": 198
        },
        "id": "qgAEy9SfGtK_",
        "outputId": "d769a6ee-c9fe-4137-f104-bedba30045e9"
      },
      "source": [
        "sc"
      ],
      "execution_count": null,
      "outputs": [
        {
          "output_type": "execute_result",
          "data": {
            "text/html": [
              "\n",
              "        <div>\n",
              "            <p><b>SparkContext</b></p>\n",
              "\n",
              "            <p><a href=\"http://5958f1c3960e:4050\">Spark UI</a></p>\n",
              "\n",
              "            <dl>\n",
              "              <dt>Version</dt>\n",
              "                <dd><code>v3.1.1</code></dd>\n",
              "              <dt>Master</dt>\n",
              "                <dd><code>local[*]</code></dd>\n",
              "              <dt>AppName</dt>\n",
              "                <dd><code>testing</code></dd>\n",
              "            </dl>\n",
              "        </div>\n",
              "        "
            ],
            "text/plain": [
              "<SparkContext master=local[*] appName=testing>"
            ]
          },
          "metadata": {
            "tags": []
          },
          "execution_count": 9
        }
      ]
    },
    {
      "cell_type": "markdown",
      "metadata": {
        "id": "_W_lW-_9KggH"
      },
      "source": [
        "# Working Zone"
      ]
    },
    {
      "cell_type": "code",
      "metadata": {
        "colab": {
          "base_uri": "https://localhost:8080/"
        },
        "id": "mHAqIWbnME9C",
        "outputId": "e737814a-3571-42db-c500-0149d3b15e74"
      },
      "source": [
        "# get data\n",
        "!gdown --id 1RDIXoYPK-y-AtWKnu7_QtuBOLvjW4Kfy\n",
        "!gdown --id 1PmZCJJuVKUsRM9zgYGCFDFwXvpWV9Rwz\n",
        "!gdown --id 1KzLAA6mipW0XQiCDxLNE73SK8c0QUMhK\n",
        "!gdown --id 1wfaEYqf4XajbYLu7jO22oatpVLKU0sZd\n",
        "!gdown --id 1hWiMh23dpj7FGaJIabhJdG14U2GnPnWa"
      ],
      "execution_count": null,
      "outputs": [
        {
          "output_type": "stream",
          "text": [
            "Downloading...\n",
            "From: https://drive.google.com/uc?id=1RDIXoYPK-y-AtWKnu7_QtuBOLvjW4Kfy\n",
            "To: /content/spark.log\n",
            "100% 194k/194k [00:00<00:00, 28.4MB/s]\n",
            "Downloading...\n",
            "From: https://drive.google.com/uc?id=1PmZCJJuVKUsRM9zgYGCFDFwXvpWV9Rwz\n",
            "To: /content/Branch1_GovDataset.csv\n",
            "100% 33.5k/33.5k [00:00<00:00, 14.8MB/s]\n",
            "Downloading...\n",
            "From: https://drive.google.com/uc?id=1KzLAA6mipW0XQiCDxLNE73SK8c0QUMhK\n",
            "To: /content/Branch1_HouseDataset.csv\n",
            "100% 16.9k/16.9k [00:00<00:00, 15.5MB/s]\n",
            "Downloading...\n",
            "From: https://drive.google.com/uc?id=1wfaEYqf4XajbYLu7jO22oatpVLKU0sZd\n",
            "To: /content/Branch2_GovDataset.csv\n",
            "100% 15.9k/15.9k [00:00<00:00, 13.8MB/s]\n",
            "Downloading...\n",
            "From: https://drive.google.com/uc?id=1hWiMh23dpj7FGaJIabhJdG14U2GnPnWa\n",
            "To: /content/Branch2_HouseDataset.csv\n",
            "100% 8.29k/8.29k [00:00<00:00, 13.3MB/s]\n"
          ],
          "name": "stdout"
        }
      ]
    },
    {
      "cell_type": "code",
      "metadata": {
        "colab": {
          "base_uri": "https://localhost:8080/"
        },
        "id": "r0_B7gU5IUfx",
        "outputId": "5d3459bc-6202-4ec3-b539-cf3a017aca2a"
      },
      "source": [
        "spark_log = sc.textFile('/content/spark.log')\n",
        "type(spark_log)"
      ],
      "execution_count": null,
      "outputs": [
        {
          "output_type": "execute_result",
          "data": {
            "text/plain": [
              "pyspark.rdd.RDD"
            ]
          },
          "metadata": {
            "tags": []
          },
          "execution_count": 11
        }
      ]
    },
    {
      "cell_type": "code",
      "metadata": {
        "colab": {
          "base_uri": "https://localhost:8080/"
        },
        "id": "3xvayHA5IgYC",
        "outputId": "5fdc0c69-09bb-46da-bf5a-1677af91dd1e"
      },
      "source": [
        "spark_log.take(5)"
      ],
      "execution_count": null,
      "outputs": [
        {
          "output_type": "execute_result",
          "data": {
            "text/plain": [
              "['17/06/09 20:10:40 INFO executor.CoarseGrainedExecutorBackend: Registered signal handlers for [TERM, HUP, INT]',\n",
              " '17/06/09 20:10:40 INFO spark.SecurityManager: Changing view acls to: yarn,curi',\n",
              " '17/06/09 20:10:40 INFO spark.SecurityManager: Changing modify acls to: yarn,curi',\n",
              " '17/06/09 20:10:40 INFO spark.SecurityManager: SecurityManager: authentication disabled; ui acls disabled; users with view permissions: Set(yarn, curi); users with modify permissions: Set(yarn, curi)',\n",
              " '17/06/09 20:10:41 INFO spark.SecurityManager: Changing view acls to: yarn,curi']"
            ]
          },
          "metadata": {
            "tags": []
          },
          "execution_count": 12
        }
      ]
    },
    {
      "cell_type": "code",
      "metadata": {
        "colab": {
          "base_uri": "https://localhost:8080/"
        },
        "id": "iSslHtBbOLpY",
        "outputId": "3497daf0-6bf6-4fce-8b6d-8d3e91e4e366"
      },
      "source": [
        "time_log_mapped = spark_log.map(lambda x: (x.split(' ')[1], 1))\n",
        "time_log_mapped.take(5)"
      ],
      "execution_count": null,
      "outputs": [
        {
          "output_type": "execute_result",
          "data": {
            "text/plain": [
              "[('20:10:40', 1),\n",
              " ('20:10:40', 1),\n",
              " ('20:10:40', 1),\n",
              " ('20:10:40', 1),\n",
              " ('20:10:41', 1)]"
            ]
          },
          "metadata": {
            "tags": []
          },
          "execution_count": 13
        }
      ]
    },
    {
      "cell_type": "code",
      "metadata": {
        "colab": {
          "base_uri": "https://localhost:8080/"
        },
        "id": "yOCuFqpQSUgn",
        "outputId": "0e54e171-dd05-4664-da30-e74dc408fae0"
      },
      "source": [
        "'20:11:08' > '20:10:40'"
      ],
      "execution_count": null,
      "outputs": [
        {
          "output_type": "execute_result",
          "data": {
            "text/plain": [
              "True"
            ]
          },
          "metadata": {
            "tags": []
          },
          "execution_count": 14
        }
      ]
    },
    {
      "cell_type": "code",
      "metadata": {
        "colab": {
          "base_uri": "https://localhost:8080/"
        },
        "id": "FTMBNKH-OLtH",
        "outputId": "7865162a-b1f4-44b6-b5ba-e9fdf74b4497"
      },
      "source": [
        "time_log_count = time_log_mapped.reduceByKey(lambda a, b: a + b).sortBy(lambda x: x[1])\n",
        "time_log_count.collect()"
      ],
      "execution_count": null,
      "outputs": [
        {
          "output_type": "execute_result",
          "data": {
            "text/plain": [
              "[('20:10:40', 4),\n",
              " ('20:10:47', 5),\n",
              " ('20:10:42', 7),\n",
              " ('20:10:41', 9),\n",
              " ('20:10:45', 13),\n",
              " ('20:10:46', 15),\n",
              " ('20:10:59', 25),\n",
              " ('20:10:48', 40),\n",
              " ('20:10:52', 58),\n",
              " ('20:11:07', 68),\n",
              " ('20:11:11', 72),\n",
              " ('20:10:57', 109),\n",
              " ('20:10:58', 114),\n",
              " ('20:10:54', 160),\n",
              " ('20:10:53', 165),\n",
              " ('20:11:09', 179),\n",
              " ('20:10:56', 185),\n",
              " ('20:10:55', 189),\n",
              " ('20:11:10', 286),\n",
              " ('20:11:08', 297)]"
            ]
          },
          "metadata": {
            "tags": []
          },
          "execution_count": 15
        }
      ]
    },
    {
      "cell_type": "code",
      "metadata": {
        "colab": {
          "base_uri": "https://localhost:8080/"
        },
        "id": "H0OHq4xLSB74",
        "outputId": "e441a66d-1626-468e-f4e6-24a295bf4e8e"
      },
      "source": [
        "time_log_range = time_log_count.map(lambda x: x[1] if '20:10:50'>x[0]>'20:10:40' else 0).sum()\n",
        "print('The number of logs between 20:10:40 and 20:10:40 is', time_log_range)"
      ],
      "execution_count": null,
      "outputs": [
        {
          "output_type": "stream",
          "text": [
            "The number of logs between 20:10:40 and 20:10:40 is 89\n"
          ],
          "name": "stdout"
        }
      ]
    },
    {
      "cell_type": "code",
      "metadata": {
        "colab": {
          "base_uri": "https://localhost:8080/"
        },
        "id": "Z4gv15_ZVgtw",
        "outputId": "dd118f1d-7c82-4979-8cbb-06fa7a368027"
      },
      "source": [
        "from pyspark.sql import SparkSession\n",
        "\n",
        "spark = SparkSession \\\n",
        "    .builder \\\n",
        "    .appName(\"Spark Dataframe\") \\\n",
        "    .config(\"spark.some.config.option\") \\\n",
        "    .getOrCreate()\n",
        "\n",
        "df_house = spark.read.csv(\"/content/Branch?_HouseDataset.csv\",header=True,sep=\",\")\n",
        "df_gov = spark.read.csv(\"/content/Branch?_GovDataset.csv\",header=True,sep=\",\")\n",
        "df_house.show()\n",
        "df_gov.show()"
      ],
      "execution_count": null,
      "outputs": [
        {
          "output_type": "stream",
          "text": [
            "+---+-----------+--------+--------+\n",
            "| Id|TotalBsmtSF|1stFlrSF|2ndFlrSF|\n",
            "+---+-----------+--------+--------+\n",
            "|  1|        856|     856|     854|\n",
            "|  2|       1262|    1262|       0|\n",
            "|  3|        920|     920|     866|\n",
            "|  4|        756|     961|     756|\n",
            "|  5|       1145|    1145|    1053|\n",
            "|  6|        796|     796|     566|\n",
            "|  7|       1686|    1694|       0|\n",
            "|  8|       1107|    1107|     983|\n",
            "|  9|        952|    1022|     752|\n",
            "| 10|        991|    1077|       0|\n",
            "| 11|       1040|    1040|       0|\n",
            "| 12|       1175|    1182|    1142|\n",
            "| 13|        912|     912|       0|\n",
            "| 14|       1494|    1494|       0|\n",
            "| 15|       1253|    1253|       0|\n",
            "| 16|        832|     854|       0|\n",
            "| 17|       1004|    1004|       0|\n",
            "| 18|          0|    1296|       0|\n",
            "| 19|       1114|    1114|       0|\n",
            "| 20|       1029|    1339|       0|\n",
            "+---+-----------+--------+--------+\n",
            "only showing top 20 rows\n",
            "\n",
            "+---+-----------+--------+---------+-------------+---------+-----+\n",
            "| Id|LotFrontage|MSZoning|YearBuilt|SaleCondition|SalePrice|Label|\n",
            "+---+-----------+--------+---------+-------------+---------+-----+\n",
            "|  1|       65.0|      RL|     2003|       Normal|   208500|    Y|\n",
            "|  2|       80.0|      RL|     1976|       Normal|   181500|    Y|\n",
            "|  3|       68.0|      RL|     2001|       Normal|   223500|    Y|\n",
            "|  4|       60.0|      RL|     1915|      Abnorml|   140000|    Y|\n",
            "|  5|       84.0|      RL|     2000|       Normal|   250000|    Y|\n",
            "|  6|       85.0|      RL|     1993|       Normal|   143000|    Y|\n",
            "|  7|       75.0|      RL|     2004|       Normal|   307000|    Y|\n",
            "|  8|       null|      RL|     1973|       Normal|   200000|    Y|\n",
            "|  9|       51.0|      RM|     1931|      Abnorml|   129900|    Y|\n",
            "| 10|       50.0|      RL|     1939|       Normal|   118000|    Y|\n",
            "| 11|       70.0|      RL|     1965|       Normal|   129500|    Y|\n",
            "| 12|       85.0|      RL|     2005|      Partial|   345000|    Y|\n",
            "| 13|       null|      RL|     1962|       Normal|   144000|    Y|\n",
            "| 14|       91.0|      RL|     2006|      Partial|   279500|    Y|\n",
            "| 15|       null|      RL|     1960|       Normal|   157000|    Y|\n",
            "| 16|       51.0|      RM|     1929|       Normal|   132000|    Y|\n",
            "| 17|       null|      RL|     1970|       Normal|   149000|    Y|\n",
            "| 18|       72.0|      RL|     1967|       Normal|    90000|    Y|\n",
            "| 19|       66.0|      RL|     2004|       Normal|   159000|    Y|\n",
            "| 20|       70.0|      RL|     1958|      Abnorml|   139000|    Y|\n",
            "+---+-----------+--------+---------+-------------+---------+-----+\n",
            "only showing top 20 rows\n",
            "\n"
          ],
          "name": "stdout"
        }
      ]
    },
    {
      "cell_type": "code",
      "metadata": {
        "colab": {
          "base_uri": "https://localhost:8080/"
        },
        "id": "-BD1vPIjekwz",
        "outputId": "8482957e-a82f-40ee-b7d1-bd9c5f781c3b"
      },
      "source": [
        "df = df_gov.join(df_house, ['Id'], how='full')\n",
        "df = df.withColumn(\"Id\",df.Id.cast('int'))\n",
        "df = df.orderBy('Id') \n",
        "df.show()"
      ],
      "execution_count": null,
      "outputs": [
        {
          "output_type": "stream",
          "text": [
            "+---+-----------+--------+---------+-------------+---------+-----+-----------+--------+--------+\n",
            "| Id|LotFrontage|MSZoning|YearBuilt|SaleCondition|SalePrice|Label|TotalBsmtSF|1stFlrSF|2ndFlrSF|\n",
            "+---+-----------+--------+---------+-------------+---------+-----+-----------+--------+--------+\n",
            "|  1|       65.0|      RL|     2003|       Normal|   208500|    Y|        856|     856|     854|\n",
            "|  2|       80.0|      RL|     1976|       Normal|   181500|    Y|       1262|    1262|       0|\n",
            "|  3|       68.0|      RL|     2001|       Normal|   223500|    Y|        920|     920|     866|\n",
            "|  4|       60.0|      RL|     1915|      Abnorml|   140000|    Y|        756|     961|     756|\n",
            "|  5|       84.0|      RL|     2000|       Normal|   250000|    Y|       1145|    1145|    1053|\n",
            "|  6|       85.0|      RL|     1993|       Normal|   143000|    Y|        796|     796|     566|\n",
            "|  7|       75.0|      RL|     2004|       Normal|   307000|    Y|       1686|    1694|       0|\n",
            "|  8|       null|      RL|     1973|       Normal|   200000|    Y|       1107|    1107|     983|\n",
            "|  9|       51.0|      RM|     1931|      Abnorml|   129900|    Y|        952|    1022|     752|\n",
            "| 10|       50.0|      RL|     1939|       Normal|   118000|    Y|        991|    1077|       0|\n",
            "| 11|       70.0|      RL|     1965|       Normal|   129500|    Y|       1040|    1040|       0|\n",
            "| 12|       85.0|      RL|     2005|      Partial|   345000|    Y|       1175|    1182|    1142|\n",
            "| 13|       null|      RL|     1962|       Normal|   144000|    Y|        912|     912|       0|\n",
            "| 14|       91.0|      RL|     2006|      Partial|   279500|    Y|       1494|    1494|       0|\n",
            "| 15|       null|      RL|     1960|       Normal|   157000|    Y|       1253|    1253|       0|\n",
            "| 16|       51.0|      RM|     1929|       Normal|   132000|    Y|        832|     854|       0|\n",
            "| 17|       null|      RL|     1970|       Normal|   149000|    Y|       1004|    1004|       0|\n",
            "| 18|       72.0|      RL|     1967|       Normal|    90000|    Y|          0|    1296|       0|\n",
            "| 19|       66.0|      RL|     2004|       Normal|   159000|    Y|       1114|    1114|       0|\n",
            "| 20|       70.0|      RL|     1958|      Abnorml|   139000|    Y|       1029|    1339|       0|\n",
            "+---+-----------+--------+---------+-------------+---------+-----+-----------+--------+--------+\n",
            "only showing top 20 rows\n",
            "\n"
          ],
          "name": "stdout"
        }
      ]
    },
    {
      "cell_type": "code",
      "metadata": {
        "colab": {
          "base_uri": "https://localhost:8080/"
        },
        "id": "PLvnFe7eg5MV",
        "outputId": "35cc66f8-09cb-40c2-95f6-785461dc7ac3"
      },
      "source": [
        "house_count = df.where('1stFlrSF > 0 and 2ndFlrSF == 0').count()\n",
        "print(\"The number of house that has only one floor is\", house_count)"
      ],
      "execution_count": null,
      "outputs": [
        {
          "output_type": "stream",
          "text": [
            "The number of house that has only one floor is 829\n"
          ],
          "name": "stdout"
        }
      ]
    },
    {
      "cell_type": "code",
      "metadata": {
        "colab": {
          "base_uri": "https://localhost:8080/",
          "height": 407
        },
        "id": "PBUHl16kjalF",
        "outputId": "52bdeb9e-244a-4f54-c645-b5b8def090c2"
      },
      "source": [
        "ppsf_df = df.withColumn('TotalArea', (df[\"1stFlrSF\"] + df[\"2ndFlrSF\"]).cast('int'))\n",
        "ppsf_df = ppsf_df.withColumn('PricePerSF', (ppsf_df[\"SalePrice\"] / ppsf_df[\"TotalArea\"])) \n",
        "ppsf_df.toPandas()"
      ],
      "execution_count": null,
      "outputs": [
        {
          "output_type": "execute_result",
          "data": {
            "text/html": [
              "<div>\n",
              "<style scoped>\n",
              "    .dataframe tbody tr th:only-of-type {\n",
              "        vertical-align: middle;\n",
              "    }\n",
              "\n",
              "    .dataframe tbody tr th {\n",
              "        vertical-align: top;\n",
              "    }\n",
              "\n",
              "    .dataframe thead th {\n",
              "        text-align: right;\n",
              "    }\n",
              "</style>\n",
              "<table border=\"1\" class=\"dataframe\">\n",
              "  <thead>\n",
              "    <tr style=\"text-align: right;\">\n",
              "      <th></th>\n",
              "      <th>Id</th>\n",
              "      <th>LotFrontage</th>\n",
              "      <th>MSZoning</th>\n",
              "      <th>YearBuilt</th>\n",
              "      <th>SaleCondition</th>\n",
              "      <th>SalePrice</th>\n",
              "      <th>Label</th>\n",
              "      <th>TotalBsmtSF</th>\n",
              "      <th>1stFlrSF</th>\n",
              "      <th>2ndFlrSF</th>\n",
              "      <th>TotalArea</th>\n",
              "      <th>PricePerSF</th>\n",
              "    </tr>\n",
              "  </thead>\n",
              "  <tbody>\n",
              "    <tr>\n",
              "      <th>0</th>\n",
              "      <td>1</td>\n",
              "      <td>65.0</td>\n",
              "      <td>RL</td>\n",
              "      <td>2003</td>\n",
              "      <td>Normal</td>\n",
              "      <td>208500</td>\n",
              "      <td>Y</td>\n",
              "      <td>856</td>\n",
              "      <td>856</td>\n",
              "      <td>854</td>\n",
              "      <td>1710</td>\n",
              "      <td>121.929825</td>\n",
              "    </tr>\n",
              "    <tr>\n",
              "      <th>1</th>\n",
              "      <td>2</td>\n",
              "      <td>80.0</td>\n",
              "      <td>RL</td>\n",
              "      <td>1976</td>\n",
              "      <td>Normal</td>\n",
              "      <td>181500</td>\n",
              "      <td>Y</td>\n",
              "      <td>1262</td>\n",
              "      <td>1262</td>\n",
              "      <td>0</td>\n",
              "      <td>1262</td>\n",
              "      <td>143.819334</td>\n",
              "    </tr>\n",
              "    <tr>\n",
              "      <th>2</th>\n",
              "      <td>3</td>\n",
              "      <td>68.0</td>\n",
              "      <td>RL</td>\n",
              "      <td>2001</td>\n",
              "      <td>Normal</td>\n",
              "      <td>223500</td>\n",
              "      <td>Y</td>\n",
              "      <td>920</td>\n",
              "      <td>920</td>\n",
              "      <td>866</td>\n",
              "      <td>1786</td>\n",
              "      <td>125.139978</td>\n",
              "    </tr>\n",
              "    <tr>\n",
              "      <th>3</th>\n",
              "      <td>4</td>\n",
              "      <td>60.0</td>\n",
              "      <td>RL</td>\n",
              "      <td>1915</td>\n",
              "      <td>Abnorml</td>\n",
              "      <td>140000</td>\n",
              "      <td>Y</td>\n",
              "      <td>756</td>\n",
              "      <td>961</td>\n",
              "      <td>756</td>\n",
              "      <td>1717</td>\n",
              "      <td>81.537566</td>\n",
              "    </tr>\n",
              "    <tr>\n",
              "      <th>4</th>\n",
              "      <td>5</td>\n",
              "      <td>84.0</td>\n",
              "      <td>RL</td>\n",
              "      <td>2000</td>\n",
              "      <td>Normal</td>\n",
              "      <td>250000</td>\n",
              "      <td>Y</td>\n",
              "      <td>1145</td>\n",
              "      <td>1145</td>\n",
              "      <td>1053</td>\n",
              "      <td>2198</td>\n",
              "      <td>113.739763</td>\n",
              "    </tr>\n",
              "    <tr>\n",
              "      <th>...</th>\n",
              "      <td>...</td>\n",
              "      <td>...</td>\n",
              "      <td>...</td>\n",
              "      <td>...</td>\n",
              "      <td>...</td>\n",
              "      <td>...</td>\n",
              "      <td>...</td>\n",
              "      <td>...</td>\n",
              "      <td>...</td>\n",
              "      <td>...</td>\n",
              "      <td>...</td>\n",
              "      <td>...</td>\n",
              "    </tr>\n",
              "    <tr>\n",
              "      <th>1455</th>\n",
              "      <td>1456</td>\n",
              "      <td>62.0</td>\n",
              "      <td>RL</td>\n",
              "      <td>1999</td>\n",
              "      <td>Normal</td>\n",
              "      <td>175000</td>\n",
              "      <td>Y</td>\n",
              "      <td>953</td>\n",
              "      <td>953</td>\n",
              "      <td>694</td>\n",
              "      <td>1647</td>\n",
              "      <td>106.253795</td>\n",
              "    </tr>\n",
              "    <tr>\n",
              "      <th>1456</th>\n",
              "      <td>1457</td>\n",
              "      <td>85.0</td>\n",
              "      <td>RL</td>\n",
              "      <td>1978</td>\n",
              "      <td>Normal</td>\n",
              "      <td>210000</td>\n",
              "      <td>Y</td>\n",
              "      <td>1542</td>\n",
              "      <td>2073</td>\n",
              "      <td>0</td>\n",
              "      <td>2073</td>\n",
              "      <td>101.302460</td>\n",
              "    </tr>\n",
              "    <tr>\n",
              "      <th>1457</th>\n",
              "      <td>1458</td>\n",
              "      <td>66.0</td>\n",
              "      <td>RL</td>\n",
              "      <td>1941</td>\n",
              "      <td>Normal</td>\n",
              "      <td>266500</td>\n",
              "      <td>Y</td>\n",
              "      <td>1152</td>\n",
              "      <td>1188</td>\n",
              "      <td>1152</td>\n",
              "      <td>2340</td>\n",
              "      <td>113.888889</td>\n",
              "    </tr>\n",
              "    <tr>\n",
              "      <th>1458</th>\n",
              "      <td>1459</td>\n",
              "      <td>68.0</td>\n",
              "      <td>RL</td>\n",
              "      <td>1950</td>\n",
              "      <td>Normal</td>\n",
              "      <td>142125</td>\n",
              "      <td>Y</td>\n",
              "      <td>1078</td>\n",
              "      <td>1078</td>\n",
              "      <td>0</td>\n",
              "      <td>1078</td>\n",
              "      <td>131.841373</td>\n",
              "    </tr>\n",
              "    <tr>\n",
              "      <th>1459</th>\n",
              "      <td>1460</td>\n",
              "      <td>75.0</td>\n",
              "      <td>RL</td>\n",
              "      <td>1965</td>\n",
              "      <td>Normal</td>\n",
              "      <td>147500</td>\n",
              "      <td>Y</td>\n",
              "      <td>1256</td>\n",
              "      <td>1256</td>\n",
              "      <td>0</td>\n",
              "      <td>1256</td>\n",
              "      <td>117.436306</td>\n",
              "    </tr>\n",
              "  </tbody>\n",
              "</table>\n",
              "<p>1460 rows × 12 columns</p>\n",
              "</div>"
            ],
            "text/plain": [
              "        Id LotFrontage MSZoning  ... 2ndFlrSF TotalArea  PricePerSF\n",
              "0        1        65.0       RL  ...      854      1710  121.929825\n",
              "1        2        80.0       RL  ...        0      1262  143.819334\n",
              "2        3        68.0       RL  ...      866      1786  125.139978\n",
              "3        4        60.0       RL  ...      756      1717   81.537566\n",
              "4        5        84.0       RL  ...     1053      2198  113.739763\n",
              "...    ...         ...      ...  ...      ...       ...         ...\n",
              "1455  1456        62.0       RL  ...      694      1647  106.253795\n",
              "1456  1457        85.0       RL  ...        0      2073  101.302460\n",
              "1457  1458        66.0       RL  ...     1152      2340  113.888889\n",
              "1458  1459        68.0       RL  ...        0      1078  131.841373\n",
              "1459  1460        75.0       RL  ...        0      1256  117.436306\n",
              "\n",
              "[1460 rows x 12 columns]"
            ]
          },
          "metadata": {
            "tags": []
          },
          "execution_count": 20
        }
      ]
    },
    {
      "cell_type": "markdown",
      "metadata": {
        "id": "9JA7VA-fKjSn"
      },
      "source": [
        "# Spark UI"
      ]
    },
    {
      "cell_type": "code",
      "metadata": {
        "colab": {
          "base_uri": "https://localhost:8080/"
        },
        "id": "UHS7fxP_GxgM",
        "outputId": "44442b6b-4767-4c0e-828d-0c2fdd7568d6"
      },
      "source": [
        "!wget https://bin.equinox.io/c/4VmDzA7iaHb/ngrok-stable-linux-amd64.zip\n",
        "!unzip ngrok-stable-linux-amd64.zip"
      ],
      "execution_count": null,
      "outputs": [
        {
          "output_type": "stream",
          "text": [
            "{\"tunnels\":[{\"name\":\"command_line\",\"uri\":\"/api/tunnels/command_line\",\"public_url\":\"https://11bb03c46cc8.ngrok.io\",\"proto\":\"https\",\"config\":{\"addr\":\"http://localhost:4050\",\"inspect\":true},\"metrics\":{\"conns\":{\"count\":0,\"gauge\":0,\"rate1\":0,\"rate5\":0,\"rate15\":0,\"p50\":0,\"p90\":0,\"p95\":0,\"p99\":0},\"http\":{\"count\":0,\"rate1\":0,\"rate5\":0,\"rate15\":0,\"p50\":0,\"p90\":0,\"p95\":0,\"p99\":0}}},{\"name\":\"command_line (http)\",\"uri\":\"/api/tunnels/command_line%20%28http%29\",\"public_url\":\"http://11bb03c46cc8.ngrok.io\",\"proto\":\"http\",\"config\":{\"addr\":\"http://localhost:4050\",\"inspect\":true},\"metrics\":{\"conns\":{\"count\":0,\"gauge\":0,\"rate1\":0,\"rate5\":0,\"rate15\":0,\"p50\":0,\"p90\":0,\"p95\":0,\"p99\":0},\"http\":{\"count\":0,\"rate1\":0,\"rate5\":0,\"rate15\":0,\"p50\":0,\"p90\":0,\"p95\":0,\"p99\":0}}}],\"uri\":\"/api/tunnels\"}\n"
          ],
          "name": "stdout"
        }
      ]
    },
    {
      "cell_type": "code",
      "metadata": {
        "id": "oIMrJKuFqmcp"
      },
      "source": [
        "get_ipython().system_raw('./ngrok http 4050 &')\n",
        "!curl -s http://localhost:4040/api/tunnels"
      ],
      "execution_count": null,
      "outputs": []
    },
    {
      "cell_type": "markdown",
      "metadata": {
        "id": "aupVEJ_FKlmx"
      },
      "source": [
        "# Stop Spark Context"
      ]
    },
    {
      "cell_type": "code",
      "metadata": {
        "id": "_ZDBUbtyG3w-"
      },
      "source": [
        "# sc.stop()"
      ],
      "execution_count": null,
      "outputs": []
    },
    {
      "cell_type": "code",
      "metadata": {
        "id": "FBWEvLVOHvfk"
      },
      "source": [
        ""
      ],
      "execution_count": null,
      "outputs": []
    }
  ]
}